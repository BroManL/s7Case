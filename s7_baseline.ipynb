{
 "cells": [
  {
   "cell_type": "code",
   "execution_count": 1,
   "metadata": {},
   "outputs": [
    {
     "name": "stdout",
     "output_type": "stream",
     "text": [
      "^C\n",
      "Requirement already satisfied: numpy in d:\\conda\\lib\\site-packages (1.21.4)\n",
      "Requirement already satisfied: pandas in d:\\conda\\lib\\site-packages (1.1.3)\n",
      "Requirement already satisfied: pytz>=2017.2 in d:\\conda\\lib\\site-packages (from pandas) (2020.1)\n",
      "Requirement already satisfied: python-dateutil>=2.7.3 in d:\\conda\\lib\\site-packages (from pandas) (2.8.1)\n",
      "Requirement already satisfied: numpy>=1.15.4 in d:\\conda\\lib\\site-packages (from pandas) (1.21.4)\n",
      "Requirement already satisfied: six>=1.5 in d:\\conda\\lib\\site-packages (from python-dateutil>=2.7.3->pandas) (1.15.0)\n"
     ]
    },
    {
     "name": "stderr",
     "output_type": "stream",
     "text": [
      "WARNING: Ignoring invalid distribution -ip (d:\\conda\\lib\\site-packages)\n",
      "WARNING: Ignoring invalid distribution - (d:\\conda\\lib\\site-packages)\n",
      "WARNING: Ignoring invalid distribution -ip (d:\\conda\\lib\\site-packages)\n",
      "WARNING: Ignoring invalid distribution - (d:\\conda\\lib\\site-packages)\n",
      "WARNING: Ignoring invalid distribution -ip (d:\\conda\\lib\\site-packages)WARNING: Ignoring invalid distribution -ip (d:\\conda\\lib\\site-packages)\n",
      "WARNING: Ignoring invalid distribution - (d:\\conda\\lib\\site-packages)\n",
      "WARNING: Ignoring invalid distribution -ip (d:\\conda\\lib\\site-packages)\n",
      "WARNING: Ignoring invalid distribution - (d:\\conda\\lib\\site-packages)\n",
      "WARNING: Ignoring invalid distribution -ip (d:\\conda\\lib\\site-packages)\n",
      "\n",
      "WARNING: Ignoring invalid distribution - (d:\\conda\\lib\\site-packages)\n",
      "WARNING: Ignoring invalid distribution -ip (d:\\conda\\lib\\site-packages)\n",
      "WARNING: Ignoring invalid distribution - (d:\\conda\\lib\\site-packages)\n",
      "WARNING: Ignoring invalid distribution -ip (d:\\conda\\lib\\site-packages)\n",
      "WARNING: Ignoring invalid distribution - (d:\\conda\\lib\\site-packages)WARNING: Ignoring invalid distribution - (d:\\conda\\lib\\site-packages)\n",
      "WARNING: Ignoring invalid distribution -ip (d:\\conda\\lib\\site-packages)\n",
      "WARNING: Ignoring invalid distribution - (d:\\conda\\lib\\site-packages)\n",
      "WARNING: Ignoring invalid distribution -ip (d:\\conda\\lib\\site-packages)\n",
      "WARNING: Ignoring invalid distribution - (d:\\conda\\lib\\site-packages)\n",
      "WARNING: Ignoring invalid distribution -ip (d:\\conda\\lib\\site-packages)\n",
      "\n",
      "WARNING: Ignoring invalid distribution -ip (d:\\conda\\lib\\site-packages)\n",
      "WARNING: Ignoring invalid distribution - (d:\\conda\\lib\\site-packages)\n",
      "WARNING: You are using pip version 21.3.1; however, version 22.3 is available.\n",
      "WARNING: Ignoring invalid distribution - (d:\\conda\\lib\\site-packages)You should consider upgrading via the 'D:\\conda\\python.exe -m pip install --upgrade pip' command.\n",
      "\n",
      "WARNING: You are using pip version 21.3.1; however, version 22.3 is available.\n",
      "You should consider upgrading via the 'D:\\conda\\python.exe -m pip install --upgrade pip' command.\n"
     ]
    },
    {
     "name": "stdout",
     "output_type": "stream",
     "text": [
      "Requirement already satisfied: tqdm in d:\\conda\\lib\\site-packages (4.50.2)\n"
     ]
    },
    {
     "name": "stderr",
     "output_type": "stream",
     "text": [
      "WARNING: Ignoring invalid distribution -ip (d:\\conda\\lib\\site-packages)\n",
      "WARNING: Ignoring invalid distribution - (d:\\conda\\lib\\site-packages)\n",
      "WARNING: Ignoring invalid distribution -ip (d:\\conda\\lib\\site-packages)\n",
      "WARNING: Ignoring invalid distribution - (d:\\conda\\lib\\site-packages)\n",
      "WARNING: Ignoring invalid distribution -ip (d:\\conda\\lib\\site-packages)\n",
      "WARNING: Ignoring invalid distribution - (d:\\conda\\lib\\site-packages)\n",
      "WARNING: Ignoring invalid distribution -ip (d:\\conda\\lib\\site-packages)\n",
      "WARNING: Ignoring invalid distribution - (d:\\conda\\lib\\site-packages)\n",
      "WARNING: Ignoring invalid distribution -ip (d:\\conda\\lib\\site-packages)\n",
      "WARNING: Ignoring invalid distribution - (d:\\conda\\lib\\site-packages)\n",
      "WARNING: Ignoring invalid distribution -ip (d:\\conda\\lib\\site-packages)\n",
      "WARNING: Ignoring invalid distribution - (d:\\conda\\lib\\site-packages)\n",
      "WARNING: You are using pip version 21.3.1; however, version 22.3 is available.\n",
      "You should consider upgrading via the 'D:\\conda\\python.exe -m pip install --upgrade pip' command.\n"
     ]
    },
    {
     "name": "stdout",
     "output_type": "stream",
     "text": [
      "Requirement already satisfied: scikit-learn in d:\\conda\\lib\\site-packages (0.23.2)"
     ]
    },
    {
     "name": "stderr",
     "output_type": "stream",
     "text": [
      "WARNING: Ignoring invalid distribution -ip (d:\\conda\\lib\\site-packages)\n",
      "WARNING: Ignoring invalid distribution - (d:\\conda\\lib\\site-packages)\n",
      "WARNING: Ignoring invalid distribution -ip (d:\\conda\\lib\\site-packages)\n",
      "WARNING: Ignoring invalid distribution - (d:\\conda\\lib\\site-packages)\n",
      "WARNING: Ignoring invalid distribution -ip (d:\\conda\\lib\\site-packages)\n",
      "WARNING: Ignoring invalid distribution - (d:\\conda\\lib\\site-packages)\n",
      "WARNING: Ignoring invalid distribution -ip (d:\\conda\\lib\\site-packages)\n",
      "WARNING: Ignoring invalid distribution - (d:\\conda\\lib\\site-packages)\n",
      "WARNING: Ignoring invalid distribution -ip (d:\\conda\\lib\\site-packages)\n",
      "WARNING: Ignoring invalid distribution - (d:\\conda\\lib\\site-packages)\n",
      "WARNING: Ignoring invalid distribution -ip (d:\\conda\\lib\\site-packages)\n",
      "WARNING: Ignoring invalid distribution - (d:\\conda\\lib\\site-packages)\n",
      "WARNING: You are using pip version 21.3.1; however, version 22.3 is available.\n",
      "You should consider upgrading via the 'D:\\conda\\python.exe -m pip install --upgrade pip' command.\n"
     ]
    },
    {
     "name": "stdout",
     "output_type": "stream",
     "text": [
      "\n",
      "Requirement already satisfied: threadpoolctl>=2.0.0 in d:\\conda\\lib\\site-packages (from scikit-learn) (2.1.0)\n",
      "Requirement already satisfied: joblib>=0.11 in d:\\conda\\lib\\site-packages (from scikit-learn) (0.17.0)\n",
      "Requirement already satisfied: numpy>=1.13.3 in d:\\conda\\lib\\site-packages (from scikit-learn) (1.21.4)\n",
      "Requirement already satisfied: scipy>=0.19.1 in d:\\conda\\lib\\site-packages (from scikit-learn) (1.5.2)\n",
      "Requirement already satisfied: catboost in d:\\conda\\lib\\site-packages (1.1)"
     ]
    },
    {
     "name": "stderr",
     "output_type": "stream",
     "text": [
      "WARNING: Ignoring invalid distribution -ip (d:\\conda\\lib\\site-packages)\n",
      "WARNING: Ignoring invalid distribution - (d:\\conda\\lib\\site-packages)\n",
      "WARNING: Ignoring invalid distribution -ip (d:\\conda\\lib\\site-packages)\n",
      "WARNING: Ignoring invalid distribution - (d:\\conda\\lib\\site-packages)\n",
      "WARNING: Ignoring invalid distribution -ip (d:\\conda\\lib\\site-packages)\n",
      "WARNING: Ignoring invalid distribution - (d:\\conda\\lib\\site-packages)\n",
      "WARNING: Ignoring invalid distribution -ip (d:\\conda\\lib\\site-packages)\n",
      "WARNING: Ignoring invalid distribution - (d:\\conda\\lib\\site-packages)\n",
      "WARNING: Ignoring invalid distribution -ip (d:\\conda\\lib\\site-packages)\n",
      "WARNING: Ignoring invalid distribution - (d:\\conda\\lib\\site-packages)\n",
      "WARNING: Ignoring invalid distribution -ip (d:\\conda\\lib\\site-packages)\n",
      "WARNING: Ignoring invalid distribution - (d:\\conda\\lib\\site-packages)\n",
      "WARNING: You are using pip version 21.3.1; however, version 22.3 is available.\n",
      "You should consider upgrading via the 'D:\\conda\\python.exe -m pip install --upgrade pip' command.\n"
     ]
    },
    {
     "name": "stdout",
     "output_type": "stream",
     "text": [
      "\n",
      "Requirement already satisfied: six in d:\\conda\\lib\\site-packages (from catboost) (1.15.0)\n",
      "Requirement already satisfied: matplotlib in d:\\conda\\lib\\site-packages (from catboost) (3.3.2)\n",
      "Requirement already satisfied: graphviz in d:\\conda\\lib\\site-packages (from catboost) (0.20.1)\n",
      "Requirement already satisfied: numpy>=1.16.0 in d:\\conda\\lib\\site-packages (from catboost) (1.21.4)\n",
      "Requirement already satisfied: pandas>=0.24.0 in d:\\conda\\lib\\site-packages (from catboost) (1.1.3)\n",
      "Requirement already satisfied: scipy in d:\\conda\\lib\\site-packages (from catboost) (1.5.2)\n",
      "Requirement already satisfied: plotly in d:\\conda\\lib\\site-packages (from catboost) (5.3.1)\n",
      "Requirement already satisfied: python-dateutil>=2.7.3 in d:\\conda\\lib\\site-packages (from pandas>=0.24.0->catboost) (2.8.1)\n",
      "Requirement already satisfied: pytz>=2017.2 in d:\\conda\\lib\\site-packages (from pandas>=0.24.0->catboost) (2020.1)\n",
      "Requirement already satisfied: pyparsing!=2.0.4,!=2.1.2,!=2.1.6,>=2.0.3 in d:\\conda\\lib\\site-packages (from matplotlib->catboost) (2.4.7)\n",
      "Requirement already satisfied: certifi>=2020.06.20 in d:\\conda\\lib\\site-packages (from matplotlib->catboost) (2022.6.15)\n",
      "Requirement already satisfied: kiwisolver>=1.0.1 in d:\\conda\\lib\\site-packages (from matplotlib->catboost) (1.3.0)\n",
      "Requirement already satisfied: pillow>=6.2.0 in d:\\conda\\lib\\site-packages (from matplotlib->catboost) (8.0.1)\n",
      "Requirement already satisfied: cycler>=0.10 in d:\\conda\\lib\\site-packages (from matplotlib->catboost) (0.10.0)\n",
      "Requirement already satisfied: tenacity>=6.2.0 in d:\\conda\\lib\\site-packages (from plotly->catboost) (8.0.1)\n"
     ]
    }
   ],
   "source": [
    "!pip install numpy\n",
    "!pip install pandas\n",
    "!pip install tqdm\n",
    "!pip install scikit-learn\n",
    "!pip install catboost"
   ]
  },
  {
   "cell_type": "code",
   "execution_count": null,
   "metadata": {},
   "outputs": [],
   "source": [
    "!pip install autokeras"
   ]
  },
  {
   "cell_type": "code",
   "execution_count": 1,
   "metadata": {},
   "outputs": [],
   "source": [
    "import pandas as pd\n",
    "import numpy as np\n",
    "from tqdm import tqdm\n",
    "\n",
    "from sklearn.model_selection import train_test_split\n",
    "from sklearn.metrics import mean_squared_error, mean_absolute_error, mean_squared_error\n",
    "from catboost import CatBoostRegressor\n",
    "\n",
    "pd.set_option('display.max_columns', 200)"
   ]
  },
  {
   "cell_type": "code",
   "execution_count": 2,
   "metadata": {},
   "outputs": [],
   "source": [
    "X_train_dataset = pd.read_csv(\"X_train.csv\")\n",
    "y_train_dataset = pd.read_csv(\"y_train.csv\")"
   ]
  },
  {
   "cell_type": "code",
   "execution_count": 3,
   "metadata": {},
   "outputs": [],
   "source": [
    "df = pd.merge(X_train_dataset, y_train_dataset, on=[\"engine_id\", \"flight_datetime\", \"flight_phase\"])"
   ]
  },
  {
   "cell_type": "code",
   "execution_count": 4,
   "metadata": {},
   "outputs": [],
   "source": [
    "import autokeras as ak"
   ]
  },
  {
   "cell_type": "code",
   "execution_count": null,
   "metadata": {},
   "outputs": [],
   "source": [
    "parameters=pd.read_csv(\"parameter_list.csv\")"
   ]
  },
  {
   "cell_type": "code",
   "execution_count": null,
   "metadata": {},
   "outputs": [],
   "source": [
    "parameters"
   ]
  },
  {
   "cell_type": "code",
   "execution_count": null,
   "metadata": {},
   "outputs": [],
   "source": [
    "#найти параметры для которых  engine_aircraft равно AIRCRAFT\n",
    "new_par=parameters.loc[parameters['engine_aircraft']=='AIRCRAFT']\n",
    "nes_par=new_par['parameter_name']"
   ]
  },
  {
   "cell_type": "code",
   "execution_count": null,
   "metadata": {},
   "outputs": [],
   "source": []
  },
  {
   "cell_type": "code",
   "execution_count": 9,
   "metadata": {},
   "outputs": [],
   "source": [
    "def get_score_by_parameter2(predict_field):\n",
    "    df = pd.merge(X_train_dataset, y_train_dataset, on=[\"engine_id\", \"flight_datetime\", \"flight_phase\"])\n",
    "    df = df[df[predict_field].notna()]\n",
    "    df = df.fillna(-100)\n",
    "    X = df.drop(columns=[predict_field])\n",
    "    X = X.drop(columns=[\n",
    "        \"engine_id\", \"aircraft_id\", \"flight_datetime\",\n",
    "        \"flight_phase\", \"engine_family\", \"engine_type\", \"manufacturer\",\n",
    "        \"aircraft_family\", \"aircraft_type\", \"aircraft_grp\", \"ac_manufacturer\"])\n",
    "    y = df[predict_field]\n",
    "    \n",
    "    X_train, X_test, y_train, y_test = train_test_split(X, y, test_size=0.33, random_state=42)\n",
    "    \n",
    "    # Initialize the structured data regressor.\n",
    "    reg = ak.StructuredDataRegressor(\n",
    "        overwrite=True, max_trials=3\n",
    "        )  # It tries 3 different models.\n",
    "    reg.fit(X_train, y_train, epochs=10)\n",
    "    struct_predicted = reg.predict(X_test)\n",
    "    struct_score = mean_squared_error(y_test, struct_predicted)\n",
    "    struct_predicted = reg.predict(X)\n",
    "    return struct_score"
   ]
  },
  {
   "cell_type": "code",
   "execution_count": null,
   "metadata": {},
   "outputs": [],
   "source": [
    "def get_score_by_parameter(predict_field):\n",
    "    df = pd.merge(X_train_dataset, y_train_dataset, on=[\"engine_id\", \"flight_datetime\", \"flight_phase\"])\n",
    "    df = df[df[predict_field].notna()]\n",
    "    df = df.fillna(-100)\n",
    "    X = df.drop(columns=[predict_field])\n",
    "    X = X.drop(columns=[\n",
    "        \"engine_id\", \"aircraft_id\", \"flight_datetime\",\n",
    "        \"flight_phase\", \"engine_family\", \"engine_type\", \"manufacturer\",\n",
    "        \"aircraft_family\", \"aircraft_type\", \"aircraft_grp\", \"ac_manufacturer\"])\n",
    "    y = df[predict_field]\n",
    "    \n",
    "    X_train, X_test, y_train, y_test = train_test_split(X, y, test_size=0.33, random_state=42)\n",
    "    \n",
    "    model = CatBoostRegressor(iterations=100, verbose=False)\n",
    "    #model = LogisticRegression(n_jobs=-1, penalty='none')\n",
    "    model.fit(X_train, y_train, epochs=10)\n",
    "    catboost_predicted = model.predict(X_test)\n",
    "    catboost_score = mean_squared_error(y_test, catboost_predicted)\n",
    "    catboost_predicted = model.predict(X)\n",
    "    return catboost_score"
   ]
  },
  {
   "cell_type": "code",
   "execution_count": null,
   "metadata": {},
   "outputs": [],
   "source": [
    "scores = pd.DataFrame(columns=[\"parameter\", \"rmse\", \".0\", \".1\", \".5\", \".9\", \"1\"])\n",
    "output_parameters = y_train_dataset.columns.drop(['flight_datetime', 'flight_phase', 'engine_id'])\n",
    "\n",
    "for param in tqdm(output_parameters):\n",
    "    try:\n",
    "        score = get_score_by_parameter2(param)\n",
    "        qua = df[param].quantile([.0, .1, .5, .9, 1])\n",
    "        qua = list(qua)\n",
    "        scores.loc[len(scores)] = [param, score] + qua\n",
    "    except:\n",
    "        continue"
   ]
  },
  {
   "cell_type": "code",
   "execution_count": null,
   "metadata": {},
   "outputs": [],
   "source": [
    "output_parameters"
   ]
  },
  {
   "cell_type": "code",
   "execution_count": null,
   "metadata": {
    "scrolled": true
   },
   "outputs": [],
   "source": [
    "scores"
   ]
  },
  {
   "cell_type": "code",
   "execution_count": null,
   "metadata": {},
   "outputs": [],
   "source": [
    "nesessary_parameters=['flight_datetime',\n",
    "                      'flight_phase',\n",
    "                      'engine_id',\n",
    "                      'BRAT',\n",
    "                      'DEGT',\n",
    "                      'DELFN',\n",
    "                      'DELN1',\n",
    "                      'DELVSV',\n",
    "                      'DPOIL',\n",
    "                      'EGTC',\n",
    "                      'EGTHDM',\n",
    "                      'EGTHDM_D',\n",
    "                      'GEGTMC',\n",
    "                      'GN2MC',\n",
    "                      'GPCN25',\n",
    "                      'GWFM',\n",
    "                      'PCN12',\n",
    "                      'PCN12I',\n",
    "                      'PCN1AR',\n",
    "                      'PCN1BR',\n",
    "                      'PCN1K','PCN2C','SLOATL','SLOATL_D','VSVNOM','WBE','WBI','WFMP',\n",
    "                      'ZPCN25_D','ZT49_D','ZTLA_D','ZTNAC_D','ZWF36_D']\n",
    "\n"
   ]
  },
  {
   "cell_type": "code",
   "execution_count": null,
   "metadata": {},
   "outputs": [],
   "source": [
    "np.shape(nesessary_parameters)"
   ]
  },
  {
   "cell_type": "code",
   "execution_count": null,
   "metadata": {},
   "outputs": [],
   "source": []
  }
 ],
 "metadata": {
  "kernelspec": {
   "display_name": "Python 3",
   "language": "python",
   "name": "python3"
  },
  "language_info": {
   "codemirror_mode": {
    "name": "ipython",
    "version": 3
   },
   "file_extension": ".py",
   "mimetype": "text/x-python",
   "name": "python",
   "nbconvert_exporter": "python",
   "pygments_lexer": "ipython3",
   "version": "3.8.3"
  }
 },
 "nbformat": 4,
 "nbformat_minor": 5
}
